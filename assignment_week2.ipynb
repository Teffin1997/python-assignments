{
  "nbformat": 4,
  "nbformat_minor": 0,
  "metadata": {
    "colab": {
      "provenance": []
    },
    "kernelspec": {
      "name": "python3",
      "display_name": "Python 3"
    },
    "language_info": {
      "name": "python"
    }
  },
  "cells": [
    {
      "cell_type": "code",
      "execution_count": 13,
      "metadata": {
        "colab": {
          "base_uri": "https://localhost:8080/"
        },
        "id": "jfmdxk0gZ3CF",
        "outputId": "8c35214d-ecbd-4182-9539-31ababaa39ec"
      },
      "outputs": [
        {
          "output_type": "stream",
          "name": "stdout",
          "text": [
            "enter a number between 1 and 10 5\n",
            "Too low! try again\n",
            "enter a number between 1 and 10 9\n",
            "Too high! Try again\n",
            "enter a number between 1 and 10 6\n",
            "congratulation!you guessed the number correctly\n"
          ]
        }
      ],
      "source": [
        "# question no: 1\n",
        "secretnumber = 6\n",
        "while True:\n",
        "  guess = int(input('enter a number between 1 and 10 '))\n",
        "  if guess == secretnumber:\n",
        "    print('congratulation!you guessed the number correctly')\n",
        "    break\n",
        "  if guess > secretnumber:\n",
        "    print('Too high! Try again')\n",
        "  else:\n",
        "    print('Too low! try again')\n",
        "  "
      ]
    },
    {
      "cell_type": "code",
      "source": [
        "# Question no:2\n",
        "numb = int(input(' enter a number'))\n",
        "factorial = 1\n",
        "for i in range(1,numb+1):\n",
        " factorial *= i\n",
        "print('Factorial = ',factorial)"
      ],
      "metadata": {
        "colab": {
          "base_uri": "https://localhost:8080/"
        },
        "id": "rrCaKFYrh7uL",
        "outputId": "fb91f98d-f8e8-4ccb-8782-40049efe71ec"
      },
      "execution_count": 16,
      "outputs": [
        {
          "output_type": "stream",
          "name": "stdout",
          "text": [
            " enter a number4\n",
            "Factorial =  24\n"
          ]
        }
      ]
    },
    {
      "cell_type": "code",
      "source": [
        "# question of facebook photo upload\n",
        "while True:\n",
        "  width = int(input('enter the width of the photo'))\n",
        "  height = int(input('enter the height of the photo'))\n",
        "  if width == 24 and height == 24:\n",
        "    print('ACCEPTED')\n",
        "    break\n",
        "  if width == height: \n",
        "    print ('CROP IT')\n",
        "  else:\n",
        "    print ('upload another photo')\n"
      ],
      "metadata": {
        "colab": {
          "base_uri": "https://localhost:8080/"
        },
        "id": "VJjuRkMTkHni",
        "outputId": "1471f6bc-b679-4ca6-afa4-45e59236b305"
      },
      "execution_count": 33,
      "outputs": [
        {
          "output_type": "stream",
          "name": "stdout",
          "text": [
            "enter the width of the photo24\n",
            "enter the height of the photo35\n",
            "upload another photo\n",
            "enter the width of the photo35\n",
            "enter the height of the photo35\n",
            "CROP IT\n",
            "enter the width of the photo45\n",
            "enter the height of the photo45\n",
            "CROP IT\n",
            "enter the width of the photo24\n",
            "enter the height of the photo24\n",
            "ACCEPTED\n"
          ]
        }
      ]
    }
  ]
}